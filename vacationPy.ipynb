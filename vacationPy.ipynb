{
 "cells": [
  {
   "cell_type": "markdown",
   "metadata": {
    "colab_type": "text",
    "id": "monxFzsceTWr"
   },
   "source": [
    "# VacationPy\n",
    "----\n",
    "\n",
    "#### Note\n",
    "* Instructions have been included for each segment. You do not have to follow them exactly, but they are included to help you think through the steps."
   ]
  },
  {
   "cell_type": "code",
   "execution_count": 1,
   "metadata": {
    "colab": {
     "base_uri": "https://localhost:8080/",
     "height": 1000
    },
    "colab_type": "code",
    "id": "oSQuXIzBggFk",
    "outputId": "cc02b9d9-1469-4f10-c17d-3c17ad8760b3",
    "scrolled": false,
    "tags": []
   },
   "outputs": [
    {
     "output_type": "stream",
     "name": "stderr",
     "text": "Enabling notebook extension jupyter-gmaps/extension...\n      - Validating: ok\n"
    }
   ],
   "source": [
    "!jupyter nbextension enable --py gmaps"
   ]
  },
  {
   "cell_type": "code",
   "execution_count": 2,
   "metadata": {
    "colab": {},
    "colab_type": "code",
    "id": "ptu0vy2ieTWs"
   },
   "outputs": [],
   "source": [
    "# Dependencies and Setup\n",
    "import matplotlib.pyplot as plt\n",
    "import pandas as pd\n",
    "import numpy as np\n",
    "import requests\n",
    "import googlemaps\n",
    "import gmaps\n",
    "import os\n",
    "from pprint import pprint\n",
    "from ipywidgets.embed import embed_minimal_html\n",
    "from api_keys import g_key"
   ]
  },
  {
   "cell_type": "code",
   "execution_count": 3,
   "metadata": {},
   "outputs": [],
   "source": [
    "gmaps.configure(api_key=g_key)\n",
    "maps = googlemaps.Client(key=g_key)"
   ]
  },
  {
   "cell_type": "markdown",
   "metadata": {
    "colab_type": "text",
    "id": "9kM-eB-jeTWy"
   },
   "source": [
    "### Store Part I results into DataFrame\n",
    "* Load the csv exported in Part I to a DataFrame"
   ]
  },
  {
   "cell_type": "code",
   "execution_count": 4,
   "metadata": {
    "colab": {},
    "colab_type": "code",
    "id": "lQYKcSSTeTWz"
   },
   "outputs": [
    {
     "output_type": "execute_result",
     "data": {
      "text/plain": "          City    Lat     Lng  Max Temp  Humidity  Cloudiness  Wind Speed  \\\n0     Behshahr  36.69   53.55     82.40        61          75        9.17   \n1       Boende  -0.22   20.87     84.76        60          67        5.17   \n2      Moyamba   8.17  -12.43     81.19        68          92        6.31   \n3      Kahului  20.89 -156.47     75.20        69          90       11.41   \n4        Boden  65.83   21.69     64.40        82          40        8.05   \n..         ...    ...     ...       ...       ...         ...         ...   \n577     Kaputa  -8.47   29.66     82.63        32           0        6.17   \n578      Ancud -41.87  -73.82     44.01       100          90        1.12   \n579  Carnarvon -24.87  113.63     64.40        77           0       14.99   \n580     Olinda  -8.01  -34.86     82.40        54          40       16.11   \n581  Mogadishu   2.04   45.34     80.60        69          75       16.11   \n\n    Country        Date  \n0        IR  1596549401  \n1        CD  1596549402  \n2        SL  1596549402  \n3        US  1596549382  \n4        SE  1596549403  \n..      ...         ...  \n577      ZM  1596549667  \n578      CL  1596549667  \n579      AU  1596549596  \n580      BR  1596549668  \n581      SO  1596549669  \n\n[582 rows x 9 columns]",
      "text/html": "<div>\n<style scoped>\n    .dataframe tbody tr th:only-of-type {\n        vertical-align: middle;\n    }\n\n    .dataframe tbody tr th {\n        vertical-align: top;\n    }\n\n    .dataframe thead th {\n        text-align: right;\n    }\n</style>\n<table border=\"1\" class=\"dataframe\">\n  <thead>\n    <tr style=\"text-align: right;\">\n      <th></th>\n      <th>City</th>\n      <th>Lat</th>\n      <th>Lng</th>\n      <th>Max Temp</th>\n      <th>Humidity</th>\n      <th>Cloudiness</th>\n      <th>Wind Speed</th>\n      <th>Country</th>\n      <th>Date</th>\n    </tr>\n  </thead>\n  <tbody>\n    <tr>\n      <th>0</th>\n      <td>Behshahr</td>\n      <td>36.69</td>\n      <td>53.55</td>\n      <td>82.40</td>\n      <td>61</td>\n      <td>75</td>\n      <td>9.17</td>\n      <td>IR</td>\n      <td>1596549401</td>\n    </tr>\n    <tr>\n      <th>1</th>\n      <td>Boende</td>\n      <td>-0.22</td>\n      <td>20.87</td>\n      <td>84.76</td>\n      <td>60</td>\n      <td>67</td>\n      <td>5.17</td>\n      <td>CD</td>\n      <td>1596549402</td>\n    </tr>\n    <tr>\n      <th>2</th>\n      <td>Moyamba</td>\n      <td>8.17</td>\n      <td>-12.43</td>\n      <td>81.19</td>\n      <td>68</td>\n      <td>92</td>\n      <td>6.31</td>\n      <td>SL</td>\n      <td>1596549402</td>\n    </tr>\n    <tr>\n      <th>3</th>\n      <td>Kahului</td>\n      <td>20.89</td>\n      <td>-156.47</td>\n      <td>75.20</td>\n      <td>69</td>\n      <td>90</td>\n      <td>11.41</td>\n      <td>US</td>\n      <td>1596549382</td>\n    </tr>\n    <tr>\n      <th>4</th>\n      <td>Boden</td>\n      <td>65.83</td>\n      <td>21.69</td>\n      <td>64.40</td>\n      <td>82</td>\n      <td>40</td>\n      <td>8.05</td>\n      <td>SE</td>\n      <td>1596549403</td>\n    </tr>\n    <tr>\n      <th>...</th>\n      <td>...</td>\n      <td>...</td>\n      <td>...</td>\n      <td>...</td>\n      <td>...</td>\n      <td>...</td>\n      <td>...</td>\n      <td>...</td>\n      <td>...</td>\n    </tr>\n    <tr>\n      <th>577</th>\n      <td>Kaputa</td>\n      <td>-8.47</td>\n      <td>29.66</td>\n      <td>82.63</td>\n      <td>32</td>\n      <td>0</td>\n      <td>6.17</td>\n      <td>ZM</td>\n      <td>1596549667</td>\n    </tr>\n    <tr>\n      <th>578</th>\n      <td>Ancud</td>\n      <td>-41.87</td>\n      <td>-73.82</td>\n      <td>44.01</td>\n      <td>100</td>\n      <td>90</td>\n      <td>1.12</td>\n      <td>CL</td>\n      <td>1596549667</td>\n    </tr>\n    <tr>\n      <th>579</th>\n      <td>Carnarvon</td>\n      <td>-24.87</td>\n      <td>113.63</td>\n      <td>64.40</td>\n      <td>77</td>\n      <td>0</td>\n      <td>14.99</td>\n      <td>AU</td>\n      <td>1596549596</td>\n    </tr>\n    <tr>\n      <th>580</th>\n      <td>Olinda</td>\n      <td>-8.01</td>\n      <td>-34.86</td>\n      <td>82.40</td>\n      <td>54</td>\n      <td>40</td>\n      <td>16.11</td>\n      <td>BR</td>\n      <td>1596549668</td>\n    </tr>\n    <tr>\n      <th>581</th>\n      <td>Mogadishu</td>\n      <td>2.04</td>\n      <td>45.34</td>\n      <td>80.60</td>\n      <td>69</td>\n      <td>75</td>\n      <td>16.11</td>\n      <td>SO</td>\n      <td>1596549669</td>\n    </tr>\n  </tbody>\n</table>\n<p>582 rows × 9 columns</p>\n</div>"
     },
     "metadata": {},
     "execution_count": 4
    }
   ],
   "source": [
    "df = pd.concat((pd.read_csv('output_data/cities_N.csv'), pd.read_csv('output_data/cities_S.csv')), ignore_index=True)\n",
    "df"
   ]
  },
  {
   "cell_type": "markdown",
   "metadata": {
    "colab_type": "text",
    "id": "5uDcglrGeTW5"
   },
   "source": [
    "### Humidity Heatmap\n",
    "* Configure gmaps.\n",
    "* Use the Lat and Lng as locations and Humidity as the weight.\n",
    "* Add Heatmap layer to map."
   ]
  },
  {
   "cell_type": "code",
   "execution_count": 5,
   "metadata": {
    "colab": {},
    "colab_type": "code",
    "id": "39lj0t1aeTW6"
   },
   "outputs": [
    {
     "output_type": "display_data",
     "data": {
      "text/plain": "Figure(layout=FigureLayout(height='840px', width='1280px'))",
      "application/vnd.jupyter.widget-view+json": {
       "version_major": 2,
       "version_minor": 0,
       "model_id": "07ce27988df5405c9271f4670bdfb8b8"
      }
     },
     "metadata": {}
    }
   ],
   "source": [
    "\n",
    "fig = gmaps.figure(layout={'width': '1280px', 'height': '840px'})\n",
    "heatmap_layer = gmaps.heatmap_layer(df[['Lat', 'Lng']], weights=df['Humidity'])\n",
    "fig.add_layer(heatmap_layer)\n",
    "fig"
   ]
  },
  {
   "cell_type": "code",
   "execution_count": 6,
   "metadata": {
    "colab": {},
    "colab_type": "code",
    "id": "HXBWZO0OilkI"
   },
   "outputs": [],
   "source": [
    "# save the output heatmap in html file\n",
    "\n",
    "embed_minimal_html('output_data/humidity_heatmap.html', views=[fig])"
   ]
  },
  {
   "cell_type": "markdown",
   "metadata": {
    "colab_type": "text",
    "id": "H2qN8-BmeTXI"
   },
   "source": [
    "### Create new DataFrame fitting weather criteria\n",
    "* Narrow down the cities to fit weather conditions.\n",
    "* Drop any rows will null values."
   ]
  },
  {
   "cell_type": "code",
   "execution_count": 7,
   "metadata": {
    "colab": {},
    "colab_type": "code",
    "id": "3rzY1ddteTXK"
   },
   "outputs": [
    {
     "output_type": "execute_result",
     "data": {
      "text/plain": "                              City    Lat     Lng  Max Temp  Humidity  \\\n74                         Sukhumi  43.00   41.02     79.88        59   \n112                        Kamenka  51.32   42.77     78.01        40   \n117                    San Vicente -26.62  -54.13     73.20        48   \n305                   Les Herbiers  46.87   -1.02     79.00        33   \n359                   San Patricio  19.22 -104.70     79.00        82   \n411                         Beloha -25.17   45.05     77.74        28   \n422  Arrondissement de Saint-Denis  48.92    2.33     78.01        33   \n470                           Orán -23.13  -64.33     72.00        59   \n483                       Hoopstad -27.83   25.91     72.70        17   \n486                         Mapiri -15.25  -68.17     77.85        42   \n509                  Florianópolis -27.61  -48.50     71.01        77   \n510                     São Manuel -22.73  -48.57     71.01        48   \n515                      Apucarana -23.55  -51.46     72.00        59   \n564                         Kasane -17.82   25.15     77.00        27   \n570                           Auki  -8.77  160.70     78.24        85   \n\n     Cloudiness  Wind Speed Country        Date  \n74            0        8.84      GE  1596549439  \n112           0        8.01      RU  1596549457  \n117           0        5.73      AR  1596549459  \n305           0        5.82      FR  1596549548  \n359           0        3.51      MX  1596549354  \n411           0        3.47      MG  1596549595  \n422           0        4.70      FR  1596549600  \n470           0        1.45      AR  1596549620  \n483           0        9.46      ZA  1596549626  \n486           0        0.25      BO  1596549628  \n509           0        9.17      BR  1596549638  \n510           0        5.01      BR  1596549638  \n515           0        5.82      BR  1596549641  \n564           0        6.93      BW  1596549662  \n570           0        4.38      SB  1596549664  ",
      "text/html": "<div>\n<style scoped>\n    .dataframe tbody tr th:only-of-type {\n        vertical-align: middle;\n    }\n\n    .dataframe tbody tr th {\n        vertical-align: top;\n    }\n\n    .dataframe thead th {\n        text-align: right;\n    }\n</style>\n<table border=\"1\" class=\"dataframe\">\n  <thead>\n    <tr style=\"text-align: right;\">\n      <th></th>\n      <th>City</th>\n      <th>Lat</th>\n      <th>Lng</th>\n      <th>Max Temp</th>\n      <th>Humidity</th>\n      <th>Cloudiness</th>\n      <th>Wind Speed</th>\n      <th>Country</th>\n      <th>Date</th>\n    </tr>\n  </thead>\n  <tbody>\n    <tr>\n      <th>74</th>\n      <td>Sukhumi</td>\n      <td>43.00</td>\n      <td>41.02</td>\n      <td>79.88</td>\n      <td>59</td>\n      <td>0</td>\n      <td>8.84</td>\n      <td>GE</td>\n      <td>1596549439</td>\n    </tr>\n    <tr>\n      <th>112</th>\n      <td>Kamenka</td>\n      <td>51.32</td>\n      <td>42.77</td>\n      <td>78.01</td>\n      <td>40</td>\n      <td>0</td>\n      <td>8.01</td>\n      <td>RU</td>\n      <td>1596549457</td>\n    </tr>\n    <tr>\n      <th>117</th>\n      <td>San Vicente</td>\n      <td>-26.62</td>\n      <td>-54.13</td>\n      <td>73.20</td>\n      <td>48</td>\n      <td>0</td>\n      <td>5.73</td>\n      <td>AR</td>\n      <td>1596549459</td>\n    </tr>\n    <tr>\n      <th>305</th>\n      <td>Les Herbiers</td>\n      <td>46.87</td>\n      <td>-1.02</td>\n      <td>79.00</td>\n      <td>33</td>\n      <td>0</td>\n      <td>5.82</td>\n      <td>FR</td>\n      <td>1596549548</td>\n    </tr>\n    <tr>\n      <th>359</th>\n      <td>San Patricio</td>\n      <td>19.22</td>\n      <td>-104.70</td>\n      <td>79.00</td>\n      <td>82</td>\n      <td>0</td>\n      <td>3.51</td>\n      <td>MX</td>\n      <td>1596549354</td>\n    </tr>\n    <tr>\n      <th>411</th>\n      <td>Beloha</td>\n      <td>-25.17</td>\n      <td>45.05</td>\n      <td>77.74</td>\n      <td>28</td>\n      <td>0</td>\n      <td>3.47</td>\n      <td>MG</td>\n      <td>1596549595</td>\n    </tr>\n    <tr>\n      <th>422</th>\n      <td>Arrondissement de Saint-Denis</td>\n      <td>48.92</td>\n      <td>2.33</td>\n      <td>78.01</td>\n      <td>33</td>\n      <td>0</td>\n      <td>4.70</td>\n      <td>FR</td>\n      <td>1596549600</td>\n    </tr>\n    <tr>\n      <th>470</th>\n      <td>Orán</td>\n      <td>-23.13</td>\n      <td>-64.33</td>\n      <td>72.00</td>\n      <td>59</td>\n      <td>0</td>\n      <td>1.45</td>\n      <td>AR</td>\n      <td>1596549620</td>\n    </tr>\n    <tr>\n      <th>483</th>\n      <td>Hoopstad</td>\n      <td>-27.83</td>\n      <td>25.91</td>\n      <td>72.70</td>\n      <td>17</td>\n      <td>0</td>\n      <td>9.46</td>\n      <td>ZA</td>\n      <td>1596549626</td>\n    </tr>\n    <tr>\n      <th>486</th>\n      <td>Mapiri</td>\n      <td>-15.25</td>\n      <td>-68.17</td>\n      <td>77.85</td>\n      <td>42</td>\n      <td>0</td>\n      <td>0.25</td>\n      <td>BO</td>\n      <td>1596549628</td>\n    </tr>\n    <tr>\n      <th>509</th>\n      <td>Florianópolis</td>\n      <td>-27.61</td>\n      <td>-48.50</td>\n      <td>71.01</td>\n      <td>77</td>\n      <td>0</td>\n      <td>9.17</td>\n      <td>BR</td>\n      <td>1596549638</td>\n    </tr>\n    <tr>\n      <th>510</th>\n      <td>São Manuel</td>\n      <td>-22.73</td>\n      <td>-48.57</td>\n      <td>71.01</td>\n      <td>48</td>\n      <td>0</td>\n      <td>5.01</td>\n      <td>BR</td>\n      <td>1596549638</td>\n    </tr>\n    <tr>\n      <th>515</th>\n      <td>Apucarana</td>\n      <td>-23.55</td>\n      <td>-51.46</td>\n      <td>72.00</td>\n      <td>59</td>\n      <td>0</td>\n      <td>5.82</td>\n      <td>BR</td>\n      <td>1596549641</td>\n    </tr>\n    <tr>\n      <th>564</th>\n      <td>Kasane</td>\n      <td>-17.82</td>\n      <td>25.15</td>\n      <td>77.00</td>\n      <td>27</td>\n      <td>0</td>\n      <td>6.93</td>\n      <td>BW</td>\n      <td>1596549662</td>\n    </tr>\n    <tr>\n      <th>570</th>\n      <td>Auki</td>\n      <td>-8.77</td>\n      <td>160.70</td>\n      <td>78.24</td>\n      <td>85</td>\n      <td>0</td>\n      <td>4.38</td>\n      <td>SB</td>\n      <td>1596549664</td>\n    </tr>\n  </tbody>\n</table>\n</div>"
     },
     "metadata": {},
     "execution_count": 7
    }
   ],
   "source": [
    "df = df.dropna()\n",
    "df = df[df['Max Temp'] >= 70]\n",
    "df = df[df['Max Temp'] <= 80]\n",
    "df = df[df['Wind Speed'] <= 10]\n",
    "df = df[df['Cloudiness'] == 0]\n",
    "df"
   ]
  },
  {
   "cell_type": "markdown",
   "metadata": {
    "colab_type": "text",
    "id": "P-JnH2TEeTXP"
   },
   "source": [
    "### Hotel Map\n",
    "* Store into variable named `hotel_df`.\n",
    "* Add a \"Hotel Name\" column to the DataFrame.\n",
    "* Set parameters to search for hotels with 5000 meters.\n",
    "* Hit the Google Places API for each city's coordinates.\n",
    "* Store the first Hotel result into the DataFrame.\n",
    "* Plot markers on top of the heatmap."
   ]
  },
  {
   "cell_type": "code",
   "execution_count": 8,
   "metadata": {
    "colab": {},
    "colab_type": "code",
    "id": "oR-S3FN1eTXQ",
    "tags": []
   },
   "outputs": [
    {
     "output_type": "execute_result",
     "data": {
      "text/plain": "                              City    Lat     Lng  Max Temp  Humidity  \\\n74                         Sukhumi  43.00   41.02     79.88        59   \n112                        Kamenka  51.32   42.77     78.01        40   \n117                    San Vicente -26.62  -54.13     73.20        48   \n305                   Les Herbiers  46.87   -1.02     79.00        33   \n359                   San Patricio  19.22 -104.70     79.00        82   \n411                         Beloha -25.17   45.05     77.74        28   \n422  Arrondissement de Saint-Denis  48.92    2.33     78.01        33   \n470                           Orán -23.13  -64.33     72.00        59   \n483                       Hoopstad -27.83   25.91     72.70        17   \n486                         Mapiri -15.25  -68.17     77.85        42   \n509                  Florianópolis -27.61  -48.50     71.01        77   \n510                     São Manuel -22.73  -48.57     71.01        48   \n515                      Apucarana -23.55  -51.46     72.00        59   \n564                         Kasane -17.82   25.15     77.00        27   \n570                           Auki  -8.77  160.70     78.24        85   \n\n     Cloudiness  Wind Speed Country        Date  \\\n74            0        8.84      GE  1596549439   \n112           0        8.01      RU  1596549457   \n117           0        5.73      AR  1596549459   \n305           0        5.82      FR  1596549548   \n359           0        3.51      MX  1596549354   \n411           0        3.47      MG  1596549595   \n422           0        4.70      FR  1596549600   \n470           0        1.45      AR  1596549620   \n483           0        9.46      ZA  1596549626   \n486           0        0.25      BO  1596549628   \n509           0        9.17      BR  1596549638   \n510           0        5.01      BR  1596549638   \n515           0        5.82      BR  1596549641   \n564           0        6.93      BW  1596549662   \n570           0        4.38      SB  1596549664   \n\n                                Hotel Name  \n74                     Гостевой дом \"РОЗА\"  \n112                Gaba Hotel & Restaurant  \n117                Gaba Hotel & Restaurant  \n305                   Château du Boisniard  \n359                    Hotel Bahía Melaque  \n411                Gaba Hotel & Restaurant  \n422  Maison Albar Hotels Le Champs-Elysées  \n470                  Nuevo Hotel Argentino  \n483                Gaba Hotel & Restaurant  \n486                Gaba Hotel & Restaurant  \n509                      Refuge Inn Lagoon  \n510                         FLORENZA HOTEL  \n515                  Hotel Doral Apucarana  \n564                  Elephant Valley Lodge  \n570                             Auki Lodge  ",
      "text/html": "<div>\n<style scoped>\n    .dataframe tbody tr th:only-of-type {\n        vertical-align: middle;\n    }\n\n    .dataframe tbody tr th {\n        vertical-align: top;\n    }\n\n    .dataframe thead th {\n        text-align: right;\n    }\n</style>\n<table border=\"1\" class=\"dataframe\">\n  <thead>\n    <tr style=\"text-align: right;\">\n      <th></th>\n      <th>City</th>\n      <th>Lat</th>\n      <th>Lng</th>\n      <th>Max Temp</th>\n      <th>Humidity</th>\n      <th>Cloudiness</th>\n      <th>Wind Speed</th>\n      <th>Country</th>\n      <th>Date</th>\n      <th>Hotel Name</th>\n    </tr>\n  </thead>\n  <tbody>\n    <tr>\n      <th>74</th>\n      <td>Sukhumi</td>\n      <td>43.00</td>\n      <td>41.02</td>\n      <td>79.88</td>\n      <td>59</td>\n      <td>0</td>\n      <td>8.84</td>\n      <td>GE</td>\n      <td>1596549439</td>\n      <td>Гостевой дом \"РОЗА\"</td>\n    </tr>\n    <tr>\n      <th>112</th>\n      <td>Kamenka</td>\n      <td>51.32</td>\n      <td>42.77</td>\n      <td>78.01</td>\n      <td>40</td>\n      <td>0</td>\n      <td>8.01</td>\n      <td>RU</td>\n      <td>1596549457</td>\n      <td>Gaba Hotel &amp; Restaurant</td>\n    </tr>\n    <tr>\n      <th>117</th>\n      <td>San Vicente</td>\n      <td>-26.62</td>\n      <td>-54.13</td>\n      <td>73.20</td>\n      <td>48</td>\n      <td>0</td>\n      <td>5.73</td>\n      <td>AR</td>\n      <td>1596549459</td>\n      <td>Gaba Hotel &amp; Restaurant</td>\n    </tr>\n    <tr>\n      <th>305</th>\n      <td>Les Herbiers</td>\n      <td>46.87</td>\n      <td>-1.02</td>\n      <td>79.00</td>\n      <td>33</td>\n      <td>0</td>\n      <td>5.82</td>\n      <td>FR</td>\n      <td>1596549548</td>\n      <td>Château du Boisniard</td>\n    </tr>\n    <tr>\n      <th>359</th>\n      <td>San Patricio</td>\n      <td>19.22</td>\n      <td>-104.70</td>\n      <td>79.00</td>\n      <td>82</td>\n      <td>0</td>\n      <td>3.51</td>\n      <td>MX</td>\n      <td>1596549354</td>\n      <td>Hotel Bahía Melaque</td>\n    </tr>\n    <tr>\n      <th>411</th>\n      <td>Beloha</td>\n      <td>-25.17</td>\n      <td>45.05</td>\n      <td>77.74</td>\n      <td>28</td>\n      <td>0</td>\n      <td>3.47</td>\n      <td>MG</td>\n      <td>1596549595</td>\n      <td>Gaba Hotel &amp; Restaurant</td>\n    </tr>\n    <tr>\n      <th>422</th>\n      <td>Arrondissement de Saint-Denis</td>\n      <td>48.92</td>\n      <td>2.33</td>\n      <td>78.01</td>\n      <td>33</td>\n      <td>0</td>\n      <td>4.70</td>\n      <td>FR</td>\n      <td>1596549600</td>\n      <td>Maison Albar Hotels Le Champs-Elysées</td>\n    </tr>\n    <tr>\n      <th>470</th>\n      <td>Orán</td>\n      <td>-23.13</td>\n      <td>-64.33</td>\n      <td>72.00</td>\n      <td>59</td>\n      <td>0</td>\n      <td>1.45</td>\n      <td>AR</td>\n      <td>1596549620</td>\n      <td>Nuevo Hotel Argentino</td>\n    </tr>\n    <tr>\n      <th>483</th>\n      <td>Hoopstad</td>\n      <td>-27.83</td>\n      <td>25.91</td>\n      <td>72.70</td>\n      <td>17</td>\n      <td>0</td>\n      <td>9.46</td>\n      <td>ZA</td>\n      <td>1596549626</td>\n      <td>Gaba Hotel &amp; Restaurant</td>\n    </tr>\n    <tr>\n      <th>486</th>\n      <td>Mapiri</td>\n      <td>-15.25</td>\n      <td>-68.17</td>\n      <td>77.85</td>\n      <td>42</td>\n      <td>0</td>\n      <td>0.25</td>\n      <td>BO</td>\n      <td>1596549628</td>\n      <td>Gaba Hotel &amp; Restaurant</td>\n    </tr>\n    <tr>\n      <th>509</th>\n      <td>Florianópolis</td>\n      <td>-27.61</td>\n      <td>-48.50</td>\n      <td>71.01</td>\n      <td>77</td>\n      <td>0</td>\n      <td>9.17</td>\n      <td>BR</td>\n      <td>1596549638</td>\n      <td>Refuge Inn Lagoon</td>\n    </tr>\n    <tr>\n      <th>510</th>\n      <td>São Manuel</td>\n      <td>-22.73</td>\n      <td>-48.57</td>\n      <td>71.01</td>\n      <td>48</td>\n      <td>0</td>\n      <td>5.01</td>\n      <td>BR</td>\n      <td>1596549638</td>\n      <td>FLORENZA HOTEL</td>\n    </tr>\n    <tr>\n      <th>515</th>\n      <td>Apucarana</td>\n      <td>-23.55</td>\n      <td>-51.46</td>\n      <td>72.00</td>\n      <td>59</td>\n      <td>0</td>\n      <td>5.82</td>\n      <td>BR</td>\n      <td>1596549641</td>\n      <td>Hotel Doral Apucarana</td>\n    </tr>\n    <tr>\n      <th>564</th>\n      <td>Kasane</td>\n      <td>-17.82</td>\n      <td>25.15</td>\n      <td>77.00</td>\n      <td>27</td>\n      <td>0</td>\n      <td>6.93</td>\n      <td>BW</td>\n      <td>1596549662</td>\n      <td>Elephant Valley Lodge</td>\n    </tr>\n    <tr>\n      <th>570</th>\n      <td>Auki</td>\n      <td>-8.77</td>\n      <td>160.70</td>\n      <td>78.24</td>\n      <td>85</td>\n      <td>0</td>\n      <td>4.38</td>\n      <td>SB</td>\n      <td>1596549664</td>\n      <td>Auki Lodge</td>\n    </tr>\n  </tbody>\n</table>\n</div>"
     },
     "metadata": {},
     "execution_count": 8
    }
   ],
   "source": [
    "def get_hotel_name(row):\n",
    "    hotels = maps.places(query='hotels nearby', location=(row.Lat, row.Lng), radius=5000)['results']\n",
    "    return hotels[0]['name']\n",
    "    # 'Lat' : hotels[0]['geometry']['location']['lat'],\n",
    "    # 'Lng' : hotels[0]['geometry']['location']['lng'],\n",
    "    # 'Hotel Name' : hotels[0]['name'],\n",
    "\n",
    "hotel_df = df\n",
    "hotel_df['Hotel Name'] = hotel_df.apply(get_hotel_name, axis= 1)\n",
    "hotel_df"
   ]
  },
  {
   "cell_type": "code",
   "execution_count": 9,
   "metadata": {
    "colab": {},
    "colab_type": "code",
    "id": "ino48iqReTXc"
   },
   "outputs": [],
   "source": [
    "# NOTE: Do not change any of the code in this cell\n",
    "\n",
    "# Using the template add the hotel marks to the heatmap\n",
    "info_box_template = '''\n",
    "<dl>\n",
    "    <dt>Name</dt><dd>{Hotel Name}</dd>\n",
    "    <dt>City</dt><dd>{City}</dd>\n",
    "    <dt>Country</dt><dd>{Country}</dd>\n",
    "</dl>\n",
    "'''\n",
    "# Store the DataFrame Row\n",
    "# NOTE: be sure to update with your DataFrame name\n",
    "hotel_info = [info_box_template.format(**row) for index, row in hotel_df.iterrows()]\n",
    "locations = hotel_df[[\"Lat\", \"Lng\"]]"
   ]
  },
  {
   "cell_type": "code",
   "execution_count": 10,
   "metadata": {
    "colab": {},
    "colab_type": "code",
    "id": "4cnVBDhKeTXg"
   },
   "outputs": [
    {
     "output_type": "display_data",
     "data": {
      "text/plain": "Figure(layout=FigureLayout(height='840px', width='1280px'))",
      "application/vnd.jupyter.widget-view+json": {
       "version_major": 2,
       "version_minor": 0,
       "model_id": "07ce27988df5405c9271f4670bdfb8b8"
      }
     },
     "metadata": {}
    }
   ],
   "source": [
    "# Add marker layer ontop of heat map\n",
    "markerlayer = gmaps.marker_layer(locations, info_box_content= hotel_info)\n",
    "fig.add_layer(markerlayer)\n",
    "\n",
    "# Display figure\n",
    "fig"
   ]
  },
  {
   "cell_type": "code",
   "execution_count": 11,
   "metadata": {},
   "outputs": [],
   "source": [
    "# save the output hotel locations in html file\n",
    "\n",
    "embed_minimal_html('output_data/hotel_locations.html', views=[fig])"
   ]
  }
 ],
 "metadata": {
  "colab": {
   "collapsed_sections": [],
   "name": "Copy of VacationPy.ipynb",
   "provenance": []
  },
  "kernelspec": {
   "display_name": "Python 3.8.3 64-bit",
   "language": "python",
   "name": "python38364bite7c6bf902a564732a00f180f73dafa16"
  },
  "language_info": {
   "codemirror_mode": {
    "name": "ipython",
    "version": 3
   },
   "file_extension": ".py",
   "mimetype": "text/x-python",
   "name": "python",
   "nbconvert_exporter": "python",
   "pygments_lexer": "ipython3",
   "version": "3.8.3-final"
  },
  "latex_envs": {
   "LaTeX_envs_menu_present": true,
   "autoclose": false,
   "autocomplete": true,
   "bibliofile": "biblio.bib",
   "cite_by": "apalike",
   "current_citInitial": 1,
   "eqLabelWithNumbers": true,
   "eqNumInitial": 1,
   "hotkeys": {
    "equation": "Ctrl-E",
    "itemize": "Ctrl-I"
   },
   "labels_anchors": false,
   "latex_user_defs": false,
   "report_style_numbering": false,
   "user_envs_cfg": false
  }
 },
 "nbformat": 4,
 "nbformat_minor": 1
}